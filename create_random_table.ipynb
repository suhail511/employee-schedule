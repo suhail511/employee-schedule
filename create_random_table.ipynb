{
 "cells": [
  {
   "cell_type": "markdown",
   "metadata": {},
   "source": [
    "## Rules\n",
    "1. Four coloured team\n",
    "2. Each team must be covered by 1 person everyday\n",
    "* On weekdays, one employee can cover 2 teams\n",
    "* On weekends, employees can only be on one team, but can cover 2 teams if in gold\n",
    "* One cannot do both Red and Blue on weekends\n",
    "* An employee cannot work for 3 weekends in a row\n",
    "* Different days of the week have score. More the score, less ideal to work on:\n",
    "\n",
    "Saturday < Friday < Sunday < Tuesday = Thursday < Wednesday = Monday<br>\n",
    "&nbsp;&nbsp;&nbsp;&nbsp;&nbsp;&nbsp;(5)\n",
    "&nbsp;&nbsp;&nbsp;&nbsp;&nbsp;&nbsp;&nbsp;&nbsp;&nbsp;&nbsp;&nbsp;(4)\n",
    "&nbsp;&nbsp;&nbsp;&nbsp;&nbsp;&nbsp;&nbsp;&nbsp;&nbsp;&nbsp;(3)\n",
    "&nbsp;&nbsp;&nbsp;&nbsp;&nbsp;&nbsp;&nbsp;&nbsp;&nbsp;&nbsp;&nbsp;&nbsp;&nbsp;&nbsp;(2)\n",
    "&nbsp;&nbsp;&nbsp;&nbsp;&nbsp;&nbsp;&nbsp;&nbsp;&nbsp;&nbsp;&nbsp;&nbsp;(2)\n",
    "&nbsp;&nbsp;&nbsp;&nbsp;&nbsp;&nbsp;&nbsp;&nbsp;&nbsp;&nbsp;&nbsp;&nbsp;&nbsp;&nbsp;&nbsp;&nbsp;(1)\n",
    "&nbsp;&nbsp;&nbsp;&nbsp;&nbsp;&nbsp;&nbsp;&nbsp;&nbsp;&nbsp;&nbsp;&nbsp;&nbsp;&nbsp;&nbsp;(1)\n",
    "       \n",
    "* Design the algorithm to find the best schedule based on the lowest overall total\n",
    "* Some employees will request days off, they should not be penaltized to have more work"
   ]
  },
  {
   "cell_type": "code",
   "execution_count": 1,
   "metadata": {},
   "outputs": [],
   "source": [
    "import random\n",
    "import calendar\n",
    "import pandas as pd\n",
    "import numpy as np\n",
    "import timeit\n",
    "import csv\n",
    "import warnings\n",
    "warnings.filterwarnings(\"ignore\")\n",
    "\n",
    "start = timeit.default_timer()"
   ]
  },
  {
   "cell_type": "markdown",
   "metadata": {},
   "source": [
    "#### Random year & month"
   ]
  },
  {
   "cell_type": "code",
   "execution_count": 2,
   "metadata": {
    "scrolled": true
   },
   "outputs": [
    {
     "name": "stdout",
     "output_type": "stream",
     "text": [
      "Year : 2022  Month:  3\n"
     ]
    }
   ],
   "source": [
    "year = random.randint(1970,2100)\n",
    "month = random.randint(1,12)\n",
    "print(\"Year :\" , year,\" Month: \",month)\n",
    "\n",
    "#no of days\n",
    "start_day, no_of_days = calendar.monthrange(year, month)\n",
    "start_day = (calendar.day_name[start_day])\n",
    "# print(\"No. of days: \", no_of_days)\n",
    "# print(\"Starting day of the week: \", start_day)"
   ]
  },
  {
   "cell_type": "markdown",
   "metadata": {},
   "source": [
    "#### Create month table"
   ]
  },
  {
   "cell_type": "code",
   "execution_count": 3,
   "metadata": {},
   "outputs": [],
   "source": [
    "def get_score(weekday_name):\n",
    "#     print(weekday_name)\n",
    "    day_score = []\n",
    "    for name in weekday_name:\n",
    "        if name == 'Saturday' :\n",
    "            day_score.append(5)\n",
    "        elif name == 'Friday':\n",
    "            day_score.append(4)\n",
    "        elif name == 'Sunday':\n",
    "            day_score.append(3)\n",
    "        elif name == 'Tuesday' or name =='Thursday' :\n",
    "            day_score.append(2)\n",
    "        else:\n",
    "            day_score.append(1)\n",
    "    return day_score\n",
    "            \n",
    "\n",
    "def create_table(start, end):\n",
    "    df = pd.DataFrame({'Date': pd.date_range(start, end)})\n",
    "    df['Day'] = df.Date.dt.weekday_name\n",
    "    df['Score'] = get_score(df.Date.dt.weekday_name)\n",
    "    df['Blue'] = 'NA'\n",
    "    df['Red'] = 'NA'\n",
    "    df['Silver'] = 'NA'\n",
    "    df['Gold'] = 'NA'\n",
    "    return df"
   ]
  },
  {
   "cell_type": "code",
   "execution_count": 4,
   "metadata": {
    "scrolled": true
   },
   "outputs": [],
   "source": [
    "start_date = str(year) + '-' + str(month) +'-01'\n",
    "end_date = str(year) + '-' + str(month) +'-'+str(no_of_days)\n",
    "\n",
    "df_teams = create_table(start_date, end_date)"
   ]
  },
  {
   "cell_type": "markdown",
   "metadata": {},
   "source": [
    "#### List of random no. of employees\n",
    "#### Also select last 2 weekend's work randomly "
   ]
  },
  {
   "cell_type": "code",
   "execution_count": 5,
   "metadata": {},
   "outputs": [],
   "source": [
    "no_of_empl = random.randint(25,50)\n",
    "\n",
    "#6 random employees worked 2 weekends back\n",
    "weekend_1 = random.sample(range(1,no_of_empl+1), 6)\n",
    "weekend_2 = random.sample(range(1,no_of_empl+1), 6)\n",
    "\n",
    "empl_list = []\n",
    "for i in range(1,no_of_empl+1):\n",
    "    one_weekend_back = 0\n",
    "    two_weekend_back = 0\n",
    "    if i in weekend_1:\n",
    "        one_weekend_back = 1\n",
    "    if i in weekend_2:\n",
    "        two_weekend_back = 1\n",
    "    if(i<10):\n",
    "        empl_list.append(['emp_0' + str(i), 0, two_weekend_back, one_weekend_back, 0])\n",
    "    else:\n",
    "        empl_list.append(['emp_' + str(i), 0, two_weekend_back, one_weekend_back, 0])"
   ]
  },
  {
   "cell_type": "markdown",
   "metadata": {},
   "source": [
    "#### Random no. of employee on holiday for random amount of days"
   ]
  },
  {
   "cell_type": "code",
   "execution_count": 6,
   "metadata": {},
   "outputs": [],
   "source": [
    "#5-10 employees taking a leave\n",
    "no_of_empl_leave = random.randint(5,10)\n",
    "\n",
    "#selecting random employees who are takeing a leave\n",
    "empl_list_leave = random.sample(range(0,no_of_empl+1), no_of_empl_leave)\n",
    "\n",
    "#assiging random amount of leave days (max 10)\n",
    "for loc,empl in enumerate(empl_list):\n",
    "    if loc in empl_list_leave:\n",
    "        empl[4] = random.randint(1,10)\n",
    "\n",
    "for num,empl in enumerate(empl_list):\n",
    "    days_leave = random.sample(list(df_teams['Date']), empl[4])\n",
    "    empl.append(days_leave)\n",
    "    \n",
    "# print(\"[Employee name, If working this week, If worked one weekend back, if worked two weekends back, No of days on leave]\")\n",
    "# for empl in empl_list:\n",
    "#     print(empl)"
   ]
  },
  {
   "cell_type": "code",
   "execution_count": 7,
   "metadata": {
    "scrolled": true
   },
   "outputs": [],
   "source": [
    "def employee_schedule(start, end, empl_list):\n",
    "    df = pd.DataFrame({'Date': pd.date_range(start, end)})\n",
    "    for emp in empl_list:\n",
    "        df[emp[0]] = 0\n",
    "    return df\n",
    "    \n",
    "df_emp = employee_schedule(start_date, end_date, empl_list)\n",
    "# df_emp"
   ]
  },
  {
   "cell_type": "markdown",
   "metadata": {},
   "source": [
    "#### Randomly assigning work to employees"
   ]
  },
  {
   "cell_type": "code",
   "execution_count": 8,
   "metadata": {
    "scrolled": true
   },
   "outputs": [],
   "source": [
    "def update_df_emp(teams, empl_choice, loc, score, df_emp):\n",
    "    \n",
    "    for empl in empl_list:\n",
    "        if empl == empl_choice:\n",
    "            df_emp.loc[loc,empl[0]] += score*teams\n",
    "                \n",
    "    return df_emp\n",
    "\n",
    "for loc,date in enumerate(df_teams['Date']):\n",
    "\n",
    "    score = df_teams.loc[loc,'Score']\n",
    "    #weekend\n",
    "    if(date.weekday_name == 'Saturday' or date.weekday_name == 'Sunday'):\n",
    "        \n",
    "        free_list = []\n",
    "        for i in empl_list:\n",
    "            if ((i[2] == 0 or i[3] == 0) and i[1] == 0) and (date not in empl_list[5]):\n",
    "                free_list.append(i)\n",
    "                \n",
    "        gold_choice = random.choice(free_list)\n",
    "        df_teams.at[loc, 'Gold'] = gold_choice[0]\n",
    "\n",
    "        #assign same to one of the other three team (red,blue,silver)\n",
    "        with_gold = random.choice(['Red','Blue','Silver'])\n",
    "        df_teams.at[loc, with_gold] = gold_choice[0]\n",
    "        update_df_emp(2, gold_choice, loc, score, df_emp)\n",
    "\n",
    "        #assign different employees to remaining 2 team\n",
    "        other_choice_1 = random.choice([x for x in free_list if x != gold_choice])\n",
    "        other_choice_2 = random.choice([x for x in free_list if x != gold_choice and x != other_choice_1])\n",
    "\n",
    "        if with_gold == 'Blue':\n",
    "            df_teams.at[loc, 'Red'] = other_choice_1[0]\n",
    "            df_teams.at[loc, 'Silver'] = other_choice_2[0]\n",
    "            update_df_emp(1,other_choice_1,loc, score, df_emp)\n",
    "            update_df_emp(1,other_choice_2,loc, score, df_emp)\n",
    "        elif with_gold == 'Red':\n",
    "            df_teams.at[loc, 'Blue'] = other_choice_1[0]\n",
    "            df_teams.at[loc, 'Silver'] = other_choice_2[0]\n",
    "            update_df_emp(1,other_choice_1,loc, score, df_emp)\n",
    "            update_df_emp(1,other_choice_2,loc, score, df_emp)\n",
    "        else:\n",
    "            df_teams.at[loc, 'Blue'] = other_choice_1[0]\n",
    "            df_teams.at[loc, 'Red'] = other_choice_2[0]\n",
    "            update_df_emp(1,other_choice_1,loc, score, df_emp)\n",
    "            update_df_emp(1,other_choice_2,loc, score, df_emp)\n",
    "\n",
    "        #update weekend work status\n",
    "        for i in range(len(empl_list)):\n",
    "            if(empl_list[i]==gold_choice or empl_list[i]==other_choice_1 or empl_list[i]==other_choice_2):\n",
    "                empl_list[i][1] = 1\n",
    "\n",
    "        if(date.weekday_name == 'Sunday'):\n",
    "            for i in range(len(empl_list)):\n",
    "                empl_list[i][3] = empl_list[i][2]\n",
    "                empl_list[i][2] = empl_list[i][1]\n",
    "                empl_list[i][1] = 0\n",
    "        \n",
    "        \n",
    "#   Weekday\n",
    "    else:\n",
    "        #Get random choice for Gold\n",
    "        gold_choice = random.choice(empl_list)\n",
    "        df_teams.at[loc, 'Gold'] = gold_choice[0]\n",
    "        \n",
    "        #assign same to one of the other three team (red,blue,silver)\n",
    "        with_gold = random.choice(['Red','Blue','Silver'])\n",
    "        df_teams.at[loc, with_gold] = gold_choice[0]\n",
    "        \n",
    "        update_df_emp(2, gold_choice, loc, score, df_emp)\n",
    "        \n",
    "        #assign different employee to remaining 2 team\n",
    "        other_choice = random.choice([x for x in empl_list if x != gold_choice])\n",
    "        if with_gold == 'Blue':\n",
    "            df_teams.at[loc, 'Red'] = other_choice[0]\n",
    "            df_teams.at[loc, 'Silver'] = other_choice[0]\n",
    "            update_df_emp(2,other_choice,loc, score, df_emp)\n",
    "        elif with_gold == 'Red':\n",
    "            df_teams.at[loc, 'Blue'] = other_choice[0]\n",
    "            df_teams.at[loc, 'Silver'] = other_choice[0]\n",
    "            update_df_emp(2,other_choice,loc, score, df_emp)\n",
    "        else:\n",
    "            df_teams.at[loc, 'Blue'] = other_choice[0]\n",
    "            df_teams.at[loc, 'Red'] = other_choice[0]\n",
    "            update_df_emp(2,other_choice,loc, score, df_emp)"
   ]
  },
  {
   "cell_type": "code",
   "execution_count": 9,
   "metadata": {
    "scrolled": true
   },
   "outputs": [],
   "source": [
    "df_emp.loc['Total'] = df_emp.sum()"
   ]
  },
  {
   "cell_type": "code",
   "execution_count": 10,
   "metadata": {
    "scrolled": false
   },
   "outputs": [],
   "source": [
    "workload_array = df_emp.loc['Total','emp_01':]\n",
    "for num,workload in enumerate(workload_array):\n",
    "    workload *= no_of_days / (no_of_days-empl_list[num][4])\n",
    "    workload_array[num] = workload\n",
    "wordload_std = np.std(workload_array)\n",
    "std_no_of_empl = wordload_std * np.sqrt(no_of_empl)\n",
    "score_to_minimize = wordload_std * np.sqrt(no_of_empl) / np.sqrt(no_of_days)"
   ]
  },
  {
   "cell_type": "code",
   "execution_count": 11,
   "metadata": {},
   "outputs": [],
   "source": [
    "# tosave = [no_of_empl, no_of_days, wordload_std, std_no_of_empl, score_to_minimize]\n",
    "# with open('std.csv','a') as f:\n",
    "#     writer = csv.writer(f)\n",
    "#     writer.writerow(tosave)"
   ]
  },
  {
   "cell_type": "code",
   "execution_count": 12,
   "metadata": {},
   "outputs": [
    {
     "name": "stdout",
     "output_type": "stream",
     "text": [
      "Time:  0.17183391097933054\n"
     ]
    }
   ],
   "source": [
    "stop = timeit.default_timer()\n",
    "\n",
    "print('Time: ', stop - start)  "
   ]
  },
  {
   "cell_type": "code",
   "execution_count": 13,
   "metadata": {},
   "outputs": [
    {
     "data": {
      "text/plain": [
       "7.40044730947439"
      ]
     },
     "execution_count": 13,
     "metadata": {},
     "output_type": "execute_result"
    }
   ],
   "source": [
    "score_to_minimize"
   ]
  },
  {
   "cell_type": "code",
   "execution_count": null,
   "metadata": {},
   "outputs": [],
   "source": []
  }
 ],
 "metadata": {
  "kernelspec": {
   "display_name": "Python 3",
   "language": "python",
   "name": "python3"
  },
  "language_info": {
   "codemirror_mode": {
    "name": "ipython",
    "version": 3
   },
   "file_extension": ".py",
   "mimetype": "text/x-python",
   "name": "python",
   "nbconvert_exporter": "python",
   "pygments_lexer": "ipython3",
   "version": "3.6.7"
  }
 },
 "nbformat": 4,
 "nbformat_minor": 2
}
