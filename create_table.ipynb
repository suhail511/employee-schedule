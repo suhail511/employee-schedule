{
 "cells": [
  {
   "cell_type": "markdown",
   "metadata": {},
   "source": [
    "## Rules\n",
    "1. Four coloured team\n",
    "2. Each team must be covered by 1 person everyday\n",
    "* On weekdays, one employee can cover 2 teams\n",
    "* On weekends, employees can only be on one team, but can cover 2 teams if in gold\n",
    "* One cannot do both Red and Blue on weekends\n",
    "* An employee cannot work for 3 weekends in a row\n",
    "* Different days of the week have score. More the score, less ideal to work on:\n",
    "\n",
    "| Saturday |Sunday | Tuesday |Thursday |Wednesday |Monday | Friday |\n",
    "|----------|-------|---------|---------|----------|-------|--------|\n",
    "| 5        |   4   |    3    |    2    |    2     |    1  |   1    |\n",
    "        \n",
    "* Design the algorithm to find the best schedule based on the lowest overall total\n",
    "* Some employees will request days off, they should not be penaltized to have more work"
   ]
  },
  {
   "cell_type": "code",
   "execution_count": 1,
   "metadata": {},
   "outputs": [],
   "source": [
    "import random\n",
    "import calendar\n",
    "import pandas as pd\n",
    "import numpy as np\n",
    "from numpy.random import choice\n",
    "import timeit\n",
    "import csv\n",
    "import warnings\n",
    "# from cProfile import profile\n",
    "# , pstats, io\n",
    "warnings.filterwarnings(\"ignore\")\n",
    "# import cProfile, pstats, io\n",
    "\n",
    "# def profile(fnc):\n",
    "    \n",
    "#     def inner(*args, **kwargs):\n",
    "#         pr = cProfile.Profile()\n",
    "#         pr.enable()\n",
    "#         retval=fnc(*args, **kwargs)\n",
    "#         s = io.StringIO()\n",
    "#         sortby = 'tottime'\n",
    "#         ps = pstats.Stats(pr, stream=s).sort_stats(sortby)\n",
    "#         ps.print_stats()\n",
    "#         print(s.getvalue())\n",
    "#         return retval\n",
    "    \n",
    "#     return inner"
   ]
  },
  {
   "cell_type": "markdown",
   "metadata": {},
   "source": [
    "#### Random year & month"
   ]
  },
  {
   "cell_type": "code",
   "execution_count": 2,
   "metadata": {
    "scrolled": true
   },
   "outputs": [],
   "source": [
    "# @profile\n",
    "def get_dates():\n",
    "    year = random.randint(1970,2100)\n",
    "    month = random.randint(1,12)\n",
    "#     print(\"Year :\" , year,\" Month: \",month)\n",
    "\n",
    "    #no of days\n",
    "    start_day, no_of_days = calendar.monthrange(year, month)\n",
    "    \n",
    "    return year, month, no_of_days"
   ]
  },
  {
   "cell_type": "markdown",
   "metadata": {},
   "source": [
    "#### Create month table"
   ]
  },
  {
   "cell_type": "code",
   "execution_count": 3,
   "metadata": {},
   "outputs": [],
   "source": [
    "def get_score(weekday_name):\n",
    "#     print(weekday_name)\n",
    "    day_score = []\n",
    "    for name in weekday_name:\n",
    "        if name == 'Saturday' :\n",
    "            day_score.append(5)\n",
    "        elif name == 'Friday':\n",
    "            day_score.append(4)\n",
    "        elif name == 'Sunday':\n",
    "            day_score.append(3)\n",
    "        elif name == 'Tuesday' or name =='Thursday' :\n",
    "            day_score.append(2)\n",
    "        else:\n",
    "            day_score.append(1)\n",
    "    return day_score\n",
    "\n",
    "def create_table(year, month, no_of_days):\n",
    "    start_date = str(year) + '-' + str(month) +'-01'\n",
    "    end_date = str(year) + '-' + str(month) +'-'+str(no_of_days)\n",
    "    df = pd.DataFrame({'Date': pd.date_range(start_date, end_date)})\n",
    "    df['Day'] = df.Date.dt.weekday_name\n",
    "    df['Score'] = get_score(df.Date.dt.weekday_name)\n",
    "    df['Blue'] = 'NA'\n",
    "    df['Red'] = 'NA'\n",
    "    df['Silver'] = 'NA'\n",
    "    df['Gold'] = 'NA'\n",
    "    return df"
   ]
  },
  {
   "cell_type": "markdown",
   "metadata": {},
   "source": [
    "#### List of random no. of employees\n",
    "#### Also select last 2 weekend's work randomly "
   ]
  },
  {
   "cell_type": "code",
   "execution_count": 4,
   "metadata": {},
   "outputs": [],
   "source": [
    "def create_employee_list():\n",
    "    no_of_empl = random.randint(25,30)\n",
    "\n",
    "    #6 random employees worked 2 weekends back\n",
    "    weekend_1 = random.sample(range(1,no_of_empl+1), 6)\n",
    "    weekend_2 = random.sample(range(1,no_of_empl+1), 6)\n",
    "\n",
    "    empl_list = []\n",
    "    for i in range(1,no_of_empl+1):\n",
    "        one_weekend_back = 0\n",
    "        two_weekend_back = 0\n",
    "        if i in weekend_1:\n",
    "            one_weekend_back = 1\n",
    "        if i in weekend_2:\n",
    "            two_weekend_back = 1\n",
    "        if(i<10):\n",
    "            empl_list.append(['emp_0' + str(i), 0, two_weekend_back, one_weekend_back, 0])\n",
    "        else:\n",
    "            empl_list.append(['emp_' + str(i), 0, two_weekend_back, one_weekend_back, 0])\n",
    "            \n",
    "#     Random no. of employee on holiday for random amount of days\n",
    "    #5-10 employees taking a leave\n",
    "    no_of_empl_leave = random.randint(5,10)\n",
    "\n",
    "    #selecting random employees who are takeing a leave\n",
    "    empl_list_leave = random.sample(range(0,no_of_empl+1), no_of_empl_leave)\n",
    "\n",
    "    #assiging random amount of leave days (max 10)\n",
    "    for loc,empl in enumerate(empl_list):\n",
    "        if loc in empl_list_leave:\n",
    "            empl[4] = random.randint(1,10)\n",
    "\n",
    "    for num,empl in enumerate(empl_list):\n",
    "        days_leave = random.sample(list(df_teams['Date']), empl[4])\n",
    "        empl.append(days_leave)\n",
    "        empl.append(10000)\n",
    "        empl.append(no_of_days/(no_of_days-empl[4]))\n",
    "    \n",
    "# print(\"[Employee name, If working this week, If worked one weekend back, if worked two weekends back, No of days on leave, Weight, Score Multiplier]\")\n",
    "# for empl in empl_list:\n",
    "#     print(empl)\n",
    "\n",
    "    return empl_list, no_of_empl"
   ]
  },
  {
   "cell_type": "code",
   "execution_count": 5,
   "metadata": {
    "scrolled": true
   },
   "outputs": [],
   "source": [
    "def employee_schedule(year, month, empl_list):\n",
    "    start_date = str(year) + '-' + str(month) +'-01'\n",
    "    end_date = str(year) + '-' + str(month) +'-'+str(no_of_days)\n",
    "    df = pd.DataFrame({'Date': pd.date_range(start_date, end_date)})\n",
    "    for emp in empl_list:\n",
    "        df[emp[0]] = 0\n",
    "    df.loc['Total'] = 0.0001\n",
    "    return df"
   ]
  },
  {
   "cell_type": "markdown",
   "metadata": {},
   "source": [
    "#### Randomly assigning work to employees"
   ]
  },
  {
   "cell_type": "code",
   "execution_count": 6,
   "metadata": {},
   "outputs": [],
   "source": [
    "def update_df_emp(teams, empl_choice, loc, score):\n",
    "    \n",
    "    for empl in empl_list:\n",
    "        if empl == empl_choice:\n",
    "            df_emp.loc[loc,empl[0]] += score*teams*empl[7]\n",
    "\n",
    "def choose_empl(free_list, method):\n",
    "    if method == 'random' :\n",
    "        ## Select completly random employee for next day\n",
    "        return random.choice(free_list)\n",
    "    elif method == 'weighted' :\n",
    "        ## Select an employee Psuedo-randomly (based on thier weights)\n",
    "        totals = []\n",
    "        running_total = 0\n",
    "\n",
    "        for w in [empl[6] for empl in free_list]:\n",
    "            running_total += w\n",
    "            totals.append(running_total)\n",
    "\n",
    "        rnd = random.random() * running_total\n",
    "        for i, total in enumerate(totals):\n",
    "            if rnd < total:\n",
    "                return free_list[i]\n",
    "    elif method == 'best' :\n",
    "        ## Select employee who has lowest total score till date\n",
    "        highest = -1\n",
    "        best = []\n",
    "        random.shuffle(free_list)\n",
    "\n",
    "        for empl in free_list:\n",
    "            if empl[6] > highest:\n",
    "                highest = empl[6]\n",
    "                best = empl\n",
    "\n",
    "        return best\n",
    "    else:\n",
    "        return 0\n",
    "    \n",
    "def get_ml_inputs(score_next_day, free_list, is_weekend, day):\n",
    "    random.shuffle(free_list)\n",
    "    input_to_ml = []\n",
    "    input_to_ml.append(score_next_day)\n",
    "    for empl in free_list:\n",
    "        input_to_ml.append(df_emp.loc['Total'][empl[0]])\n",
    "    \n",
    "    score_mults = []\n",
    "    for empl in free_list:\n",
    "        input_to_ml.append(empl[7])\n",
    "\n",
    "    input_to_ml.append(is_weekend)\n",
    "    \n",
    "    with open('test.txt','w') as f:\n",
    "        f.write(str(input_to_ml))\n",
    "    \n",
    "    np.save(f'selection/{day}.npy', input_to_ml)\n",
    "    "
   ]
  },
  {
   "cell_type": "code",
   "execution_count": 7,
   "metadata": {
    "scrolled": true
   },
   "outputs": [],
   "source": [
    "# @profile\n",
    "def assign_schedule(method):\n",
    "    \n",
    "#     df_teams = df_teams.sort_values(by=['Score'], ascending=False)\n",
    "\n",
    "    for loc,date in enumerate(df_teams['Date']):\n",
    "\n",
    "        score = df_teams.loc[loc,'Score']\n",
    "        \n",
    "        #weekend\n",
    "        if(date.weekday_name == 'Saturday' or date.weekday_name == 'Sunday'):\n",
    "            free_list = []\n",
    "            for empl in empl_list:\n",
    "                if ((empl[2] == 0 or empl[3] == 0) and empl[1] == 0) and (date not in empl[5]):\n",
    "                    free_list.append(empl)\n",
    "            \n",
    "            #Inputs for ML\n",
    "            get_ml_inputs(score, free_list, 1, date.day)\n",
    "\n",
    "            gold_choice = choose_empl(free_list, method)\n",
    "            df_teams.at[loc, 'Gold'] = gold_choice[0]\n",
    "\n",
    "            free_list = [x for x in free_list if x != gold_choice]\n",
    "\n",
    "            #assign same to one of the other three team (red,blue,silver)\n",
    "            with_gold = choice(['Red','Blue','Silver'])\n",
    "            df_teams.at[loc, with_gold] = gold_choice[0]\n",
    "            update_df_emp(2, gold_choice, loc, score)\n",
    "\n",
    "            #assign different employees to remaining 2 team\n",
    "            other_choice_1 = choose_empl(free_list, method)\n",
    "            free_list = [x for x in free_list if x != other_choice_1]\n",
    "            other_choice_2 = choose_empl(free_list, method)\n",
    "\n",
    "            if with_gold == 'Blue':\n",
    "                df_teams.at[loc, 'Red'] = other_choice_1[0]\n",
    "                df_teams.at[loc, 'Silver'] = other_choice_2[0]\n",
    "                update_df_emp(1,other_choice_1,loc, score)\n",
    "                update_df_emp(1,other_choice_2,loc, score)\n",
    "            elif with_gold == 'Red':\n",
    "                df_teams.at[loc, 'Blue'] = other_choice_1[0]\n",
    "                df_teams.at[loc, 'Silver'] = other_choice_2[0]\n",
    "                update_df_emp(1,other_choice_1,loc, score)\n",
    "                update_df_emp(1,other_choice_2,loc, score)\n",
    "            else:\n",
    "                df_teams.at[loc, 'Blue'] = other_choice_1[0]\n",
    "                df_teams.at[loc, 'Red'] = other_choice_2[0]\n",
    "                update_df_emp(1,other_choice_1,loc, score)\n",
    "                update_df_emp(1,other_choice_2,loc, score)\n",
    "\n",
    "            #update weekend work status\n",
    "            for i in range(len(empl_list)):\n",
    "                if(empl_list[i]==gold_choice or empl_list[i]==other_choice_1 or empl_list[i]==other_choice_2):\n",
    "                    empl_list[i][1] = 1\n",
    "\n",
    "            if(date.weekday_name == 'Sunday'):\n",
    "                for i in range(len(empl_list)):\n",
    "                    empl_list[i][3] = empl_list[i][2]\n",
    "                    empl_list[i][2] = empl_list[i][1]\n",
    "                    empl_list[i][1] = 0\n",
    "                    \n",
    "\n",
    "    #   Weekday\n",
    "        else:\n",
    "            free_list = []\n",
    "            for empl in empl_list:\n",
    "                if date not in empl[5]:\n",
    "                    free_list.append(empl)\n",
    "            \n",
    "            #Inputs for ML\n",
    "            get_ml_inputs(score, free_list, 0, date.day)\n",
    "\n",
    "            #Get random choice for Gold\n",
    "            gold_choice = choose_empl(free_list, method)\n",
    "            df_teams.at[loc, 'Gold'] = gold_choice[0]\n",
    "\n",
    "            #assign same to one of the other three team (red,blue,silver)\n",
    "            with_gold = choice(['Red','Blue','Silver'])\n",
    "            df_teams.at[loc, with_gold] = gold_choice[0]\n",
    "\n",
    "            update_df_emp(2, gold_choice, loc, score)\n",
    "            free_list = [x for x in empl_list if x != gold_choice]\n",
    "\n",
    "            #assign different employee to remaining 2 team\n",
    "            other_choice = choose_empl(free_list, method)\n",
    "            if with_gold == 'Blue':\n",
    "                df_teams.at[loc, 'Red'] = other_choice[0]\n",
    "                df_teams.at[loc, 'Silver'] = other_choice[0]\n",
    "                update_df_emp(2,other_choice,loc, score)\n",
    "            elif with_gold == 'Red':\n",
    "                df_teams.at[loc, 'Blue'] = other_choice[0]\n",
    "                df_teams.at[loc, 'Silver'] = other_choice[0]\n",
    "                update_df_emp(2,other_choice,loc, score)\n",
    "            else:\n",
    "                df_teams.at[loc, 'Blue'] = other_choice[0]\n",
    "                df_teams.at[loc, 'Red'] = other_choice[0]\n",
    "                update_df_emp(2,other_choice,loc, score)\n",
    "\n",
    "        df_emp.loc['Total'] = 0.0001\n",
    "        df_emp.loc['Total'] = df_emp.sum()\n",
    "        for empl in empl_list:\n",
    "            empl[6] = 1 / df_emp.loc['Total'][empl[0]]\n",
    "    \n",
    "#     df_teams = df_teams.sort_values(by=['Date'])\n",
    "\n",
    "#     return df_teams, df_emp, empl_list\n"
   ]
  },
  {
   "cell_type": "code",
   "execution_count": 8,
   "metadata": {
    "scrolled": false
   },
   "outputs": [],
   "source": [
    "for i in range(1):\n",
    "    \n",
    "\n",
    "    year, month, no_of_days = get_dates()\n",
    "\n",
    "    df_teams = create_table(year, month, no_of_days)\n",
    "\n",
    "    empl_list, no_of_empl = create_employee_list()\n",
    "\n",
    "    df_emp = employee_schedule(year, month, empl_list)\n",
    "\n",
    "\n",
    "#     if len(all_scores) !=31: pad zeros XXXX\n",
    "\n",
    "#     [[next_day_score], \n",
    "#     [free->[current_score][score_mult]]\n",
    "\n",
    "    method = 'random'\n",
    "    assign_schedule(method)\n",
    "    \n",
    "    "
   ]
  },
  {
   "cell_type": "code",
   "execution_count": 9,
   "metadata": {},
   "outputs": [
    {
     "data": {
      "text/plain": [
       "14.0001"
      ]
     },
     "execution_count": 9,
     "metadata": {},
     "output_type": "execute_result"
    }
   ],
   "source": [
    "df_emp.loc['Total']['emp_01']"
   ]
  },
  {
   "cell_type": "code",
   "execution_count": 10,
   "metadata": {
    "scrolled": false
   },
   "outputs": [],
   "source": [
    "workload_array = df_emp.loc['Total','emp_01':]\n",
    "for num,workload in enumerate(workload_array):\n",
    "    workload *= no_of_days / (no_of_days-empl_list[num][4])\n",
    "    workload_array[num] = workload\n",
    "wordload_std = np.std(workload_array)\n",
    "std_no_of_empl = wordload_std * np.sqrt(no_of_empl)\n",
    "score_to_minimize = wordload_std * np.sqrt(no_of_empl) / np.sqrt(no_of_days)"
   ]
  },
  {
   "cell_type": "code",
   "execution_count": 11,
   "metadata": {},
   "outputs": [],
   "source": [
    "# tosave = [no_of_empl, no_of_days, wordload_std, std_no_of_empl, score_to_minimize]\n",
    "# with open('std.csv','a') as f:\n",
    "#     writer = csv.writer(f)\n",
    "#     writer.writerow(tosave)"
   ]
  },
  {
   "cell_type": "code",
   "execution_count": 12,
   "metadata": {},
   "outputs": [
    {
     "data": {
      "text/plain": [
       "11.75711474831248"
      ]
     },
     "execution_count": 12,
     "metadata": {},
     "output_type": "execute_result"
    }
   ],
   "source": [
    "df_emp\n",
    "score_to_minimize"
   ]
  },
  {
   "cell_type": "code",
   "execution_count": 13,
   "metadata": {},
   "outputs": [
    {
     "data": {
      "text/plain": [
       "Timestamp('2034-10-01 00:00:00')"
      ]
     },
     "execution_count": 13,
     "metadata": {},
     "output_type": "execute_result"
    }
   ],
   "source": [
    "df_teams['Date'][0]"
   ]
  },
  {
   "cell_type": "code",
   "execution_count": null,
   "metadata": {},
   "outputs": [],
   "source": []
  }
 ],
 "metadata": {
  "kernelspec": {
   "display_name": "Python 3",
   "language": "python",
   "name": "python3"
  },
  "language_info": {
   "codemirror_mode": {
    "name": "ipython",
    "version": 3
   },
   "file_extension": ".py",
   "mimetype": "text/x-python",
   "name": "python",
   "nbconvert_exporter": "python",
   "pygments_lexer": "ipython3",
   "version": "3.6.7"
  }
 },
 "nbformat": 4,
 "nbformat_minor": 2
}
